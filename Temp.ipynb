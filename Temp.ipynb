{
 "cells": [
  {
   "cell_type": "code",
   "execution_count": 12,
   "metadata": {},
   "outputs": [],
   "source": [
    "# import libraries here; add more as necessary\n",
    "import numpy as np\n",
    "import pandas as pd\n",
    "import matplotlib.pyplot as plt\n",
    "import seaborn as sns\n",
    "\n",
    "# magic word for producing visualizations in notebook\n",
    "%matplotlib inline\n",
    "\n",
    "# Load in the general demographics data.\n",
    "azdias = pd.read_csv('Udacity_AZDIAS_Subset.csv', sep=';')\n",
    "\n",
    "# Load in the feature summary file.\n",
    "feat_info = pd.read_csv('AZDIAS_Feature_Summary.csv', sep=';')\n",
    "\n",
    "#Convert these strings to list of int & string\n",
    "def convert(i) :\n",
    "    \"\"\"\n",
    "    inputs :\n",
    "    i - string\n",
    "    output :\n",
    "    either the integer version or i itself\n",
    "    -helper function\n",
    "    \"\"\"\n",
    "    if (i != 'X' and i != 'XX' and len(i) > 0) :\n",
    "        return int(i)\n",
    "    return i\n",
    "\n",
    "def create_list(s) :\n",
    "    \"\"\"\n",
    "    inputs :\n",
    "    s - string\n",
    "    output :\n",
    "    a list contatining either the integer components \n",
    "    or 'X' and 'XX' \n",
    "    \"\"\"\n",
    "    s = s[1:-1]\n",
    "    s = s.split(',')\n",
    "    return [convert(i) for i in s]\n",
    "\n",
    "feat_info.missing_or_unknown = feat_info.missing_or_unknown.apply(create_list)\n",
    "\n",
    "def get_decade(i) :\n",
    "    \"\"\"\n",
    "    inputs :\n",
    "    i - integer\n",
    "    output :\n",
    "    the correct decade according to the dictionary under PRAEGENDE_JUGENDJAHRE\n",
    "    single digit integers representing the decade (4: 40s, 5: 50s, 6: 60s, etc.)\n",
    "    -helper function\n",
    "    \"\"\"\n",
    "    if i in [1, 2] :\n",
    "        return 4\n",
    "    if i in [3, 4] :\n",
    "        return 5\n",
    "    if i in [5, 6, 7] :\n",
    "        return 6\n",
    "    if i in [8, 9] :\n",
    "        return 7\n",
    "    if i in [10, 11, 12, 13] :\n",
    "        return 8\n",
    "    if i in [14, 15] :\n",
    "        return 9\n",
    "    else : \n",
    "        return np.nan\n",
    "    \n",
    "def in_avangarde(i) :\n",
    "    \"\"\"\n",
    "    inputs :\n",
    "    i - integer\n",
    "    output :\n",
    "    1 if the movement is avangarde and 0 if the movement is mainstream\n",
    "    all NaN left as NaN\n",
    "    -looked at the dictionary under PRAEGENDE_JUGENDJAHRE\n",
    "    \"\"\"\n",
    "    mainstream = [1, 3, 5, 8, 12, 14]\n",
    "    avantgarde = [2, 4, 6, 7, 9, 13, 15]\n",
    "    if (i in avantgarde) :\n",
    "        return 1\n",
    "    if (i in mainstream) :\n",
    "        return 0\n",
    "    return None\n",
    "\n",
    "def extract_poor(s) :\n",
    "    \"\"\"\n",
    "    inputs :\n",
    "    i - string type programatically but actually 2-digit number\n",
    "    output :\n",
    "    Extracts how poor the family is (represented by first digit)\n",
    "    -looked at the dictionary under CAMEO_INTL_2015\n",
    "    \"\"\"\n",
    "    if type(s) == str :\n",
    "        return float(s[0])\n",
    "    return s\n",
    "\n",
    "def extract_age(s) :\n",
    "    \"\"\"\n",
    "    inputs :\n",
    "    i - string type programatically but actually 2-digit number\n",
    "    output :\n",
    "    Extracts family age (represented by second digit)\n",
    "    -looked at the dictionary under CAMEO_INTL_2015\n",
    "    \"\"\"\n",
    "    if type(s) == str :\n",
    "        return float(s[1])\n",
    "    return s\n",
    "\n",
    "\n",
    "\n",
    "def clean_data(df, cthreshold=0.2):\n",
    "    \"\"\"\n",
    "    Perform feature trimming, re-encoding, and engineering for demographics\n",
    "    data\n",
    "    \n",
    "    INPUT: Demographics DataFrame\n",
    "    OUTPUT: Trimmed and cleaned demographics DataFrame\n",
    "    \"\"\"\n",
    "    #Convert these strings to list of int & string \n",
    "    #feat_info.missing_or_unknown = feat_info.missing_or_unknown.apply(create_list)\n",
    "    missing_data_dict = dict(zip(feat_info.attribute, feat_info.missing_or_unknown))\n",
    "    # Identify missing or unknown data values and convert them to NaNs.\n",
    "    for col in missing_data_dict.keys(): \n",
    "        df.loc[df[col].isin(missing_data_dict[col]), col] = np.nan\n",
    "    \n",
    "    #GETTING OUTLIER COLUMNS (COLUMNS WITH MORE THAN 20% MISSING)\n",
    "    nmissing = df.isna().sum()/df.shape[0] \n",
    "    nmissing = nmissing[nmissing > 0]\n",
    "    columns_over = nmissing[nmissing > cthreshold].sort_values(ascending = False)\n",
    "    #Drop outlier columns\n",
    "    df.drop(columns=columns_over.index, inplace=True)\n",
    "    \n",
    "    #Identify rows with lots of missing (11% is the threshold I chose)\n",
    "    #Any row with more got removed\n",
    "    nmissing_rows = df.isnull().mean(axis=1)\n",
    "    threshold = 0.11\n",
    "    df = df.loc[nmissing_rows < threshold, :]\n",
    "    \n",
    "    #Identify categorical variables\n",
    "    categorical = feat_info [ feat_info.type == 'categorical' ]\n",
    "    #some were removed earlier so find the ones that were not\n",
    "    set_of_cols = set(df.columns)\n",
    "    cols = [ c for c in categorical.attribute if c in set_of_cols]\n",
    "    #identify the columns with less number of unique values\n",
    "    col_under_6 = [col for col in cols if len(df[col].value_counts()) < 6]\n",
    "    #convert columns to object type\n",
    "    df_cat_u6 = df[col_under_6]\n",
    "    for col in col_under_6 :\n",
    "        df_cat_u6[col] = df_cat_u6[col].astype(object)\n",
    "    #will make the dummy variables out of the 6 and under columns\n",
    "    categorical_dummy = pd.get_dummies(df_cat_u6, drop_first=True) \n",
    "    #can drop the first to save space\n",
    "    #dropped the 18 categorical variablees\n",
    "    df2 = df.drop(columns=cols)\n",
    "    #add the dummy variables\n",
    "    df = pd.concat([df2, categorical_dummy], axis=1)\n",
    "    \n",
    "    #these are the mixed variables\n",
    "    mixed_columns = ['PRAEGENDE_JUGENDJAHRE', 'CAMEO_INTL_2015', 'LP_LEBENSPHASE_FEIN', 'LP_LEBENSPHASE_GROB', 'WOHNLAGE', 'PLZ8_BAUMAX']\n",
    "    #Extract decade and avangarde columns from PRAEGENDE_JUGENDJAHRE\n",
    "    df['AVANGARDE_MOVEMENT'] = df['PRAEGENDE_JUGENDJAHRE'].apply(in_avangarde)\n",
    "    df['DECADE'] = df['PRAEGENDE_JUGENDJAHRE'].apply(get_decade)\n",
    "    #Extract household poverty and household age from CAMEO_INTL_2015\n",
    "    df['HOUSEHOLD_POVERTY'] = df['CAMEO_INTL_2015'].apply(extract_poor)\n",
    "    df['HOUSEHOLD_AGE'] = df['CAMEO_INTL_2015'].apply(extract_age)\n",
    "    #PLZ8_BAUMAX not too many unique values so I decided to make dummy columns\n",
    "    temp_df = df[['PLZ8_BAUMAX']]\n",
    "    temp_df['PLZ8_BAUMAX'] = temp_df['PLZ8_BAUMAX'].astype('object')\n",
    "    temp_df = pd.get_dummies(temp_df)\n",
    "    temp_df.columns = ['1to2_FAMILY_HOMES', '3to5_FAMILY_HOMES', \n",
    "                       '6to10_FAMILY_HOMES', 'OVER_10_FAMILY_HOMES', 'BUSINESS_BUILDINGS'\n",
    "                      ]\n",
    "    df = pd.concat([df, temp_df], axis=1)\n",
    "    #drop all the mixed columns after adding the engineered ones\n",
    "    df.drop(columns=mixed_columns, inplace=True)\n",
    "    return df"
   ]
  },
  {
   "cell_type": "markdown",
   "metadata": {},
   "source": [
    "CLEAN DATA"
   ]
  },
  {
   "cell_type": "code",
   "execution_count": 13,
   "metadata": {},
   "outputs": [
    {
     "name": "stderr",
     "output_type": "stream",
     "text": [
      "<ipython-input-12-dfbd6a48a948>:148: SettingWithCopyWarning: \n",
      "A value is trying to be set on a copy of a slice from a DataFrame.\n",
      "Try using .loc[row_indexer,col_indexer] = value instead\n",
      "\n",
      "See the caveats in the documentation: https://pandas.pydata.org/pandas-docs/stable/user_guide/indexing.html#returning-a-view-versus-a-copy\n",
      "  df_cat_u6[col] = df_cat_u6[col].astype(object)\n",
      "<ipython-input-12-dfbd6a48a948>:167: SettingWithCopyWarning: \n",
      "A value is trying to be set on a copy of a slice from a DataFrame.\n",
      "Try using .loc[row_indexer,col_indexer] = value instead\n",
      "\n",
      "See the caveats in the documentation: https://pandas.pydata.org/pandas-docs/stable/user_guide/indexing.html#returning-a-view-versus-a-copy\n",
      "  temp_df['PLZ8_BAUMAX'] = temp_df['PLZ8_BAUMAX'].astype('object')\n"
     ]
    },
    {
     "data": {
      "text/plain": [
       "(771701, 82)"
      ]
     },
     "execution_count": 13,
     "metadata": {},
     "output_type": "execute_result"
    }
   ],
   "source": [
    "df = azdias.copy()\n",
    "df = clean_data(df)\n",
    "df.shape"
   ]
  },
  {
   "cell_type": "code",
   "execution_count": 14,
   "metadata": {},
   "outputs": [
    {
     "name": "stderr",
     "output_type": "stream",
     "text": [
      "<ipython-input-12-dfbd6a48a948>:148: SettingWithCopyWarning: \n",
      "A value is trying to be set on a copy of a slice from a DataFrame.\n",
      "Try using .loc[row_indexer,col_indexer] = value instead\n",
      "\n",
      "See the caveats in the documentation: https://pandas.pydata.org/pandas-docs/stable/user_guide/indexing.html#returning-a-view-versus-a-copy\n",
      "  df_cat_u6[col] = df_cat_u6[col].astype(object)\n",
      "<ipython-input-12-dfbd6a48a948>:167: SettingWithCopyWarning: \n",
      "A value is trying to be set on a copy of a slice from a DataFrame.\n",
      "Try using .loc[row_indexer,col_indexer] = value instead\n",
      "\n",
      "See the caveats in the documentation: https://pandas.pydata.org/pandas-docs/stable/user_guide/indexing.html#returning-a-view-versus-a-copy\n",
      "  temp_df['PLZ8_BAUMAX'] = temp_df['PLZ8_BAUMAX'].astype('object')\n"
     ]
    },
    {
     "data": {
      "text/plain": [
       "(135799, 82)"
      ]
     },
     "execution_count": 14,
     "metadata": {},
     "output_type": "execute_result"
    }
   ],
   "source": [
    "df2 = pd.read_csv('Udacity_CUSTOMERS_Subset.csv', sep=';')\n",
    "df2 = clean_data(df2, cthreshold=0.35)\n",
    "df2.shape"
   ]
  },
  {
   "cell_type": "markdown",
   "metadata": {},
   "source": [
    "IMPUTE "
   ]
  },
  {
   "cell_type": "code",
   "execution_count": 15,
   "metadata": {},
   "outputs": [
    {
     "data": {
      "text/plain": [
       "(771701, 82)"
      ]
     },
     "execution_count": 15,
     "metadata": {},
     "output_type": "execute_result"
    }
   ],
   "source": [
    "from sklearn.impute import SimpleImputer\n",
    "saved_columns = df.columns\n",
    "imp = SimpleImputer(strategy=\"most_frequent\")\n",
    "fitted_imp = imp.fit(df)\n",
    "imputed_values = fitted_imp.transform(df)\n",
    "imputed_df = pd.DataFrame(imputed_values, columns=saved_columns)\n",
    "imputed_df.shape"
   ]
  },
  {
   "cell_type": "code",
   "execution_count": 16,
   "metadata": {},
   "outputs": [
    {
     "data": {
      "text/plain": [
       "(135799, 82)"
      ]
     },
     "execution_count": 16,
     "metadata": {},
     "output_type": "execute_result"
    }
   ],
   "source": [
    "saved_columns = df2.columns\n",
    "imputed_values2 = fitted_imp.transform(df2)\n",
    "imputed_df2 = pd.DataFrame(imputed_values2, columns=saved_columns)\n",
    "imputed_df2.shape"
   ]
  },
  {
   "cell_type": "markdown",
   "metadata": {},
   "source": [
    "SCALING"
   ]
  },
  {
   "cell_type": "code",
   "execution_count": 17,
   "metadata": {},
   "outputs": [
    {
     "data": {
      "text/plain": [
       "(771701, 82)"
      ]
     },
     "execution_count": 17,
     "metadata": {},
     "output_type": "execute_result"
    }
   ],
   "source": [
    "# Before PCA one of the steps is features scaling\n",
    "#modify the values of dataframe so that mean=0 and std=1\n",
    "from sklearn.preprocessing import StandardScaler\n",
    "\n",
    "scaler_fitted = StandardScaler().fit(imputed_df.values)\n",
    "scaled_vals = scaler_fitted.transform(imputed_df.values)\n",
    "scaled_vals.shape"
   ]
  },
  {
   "cell_type": "code",
   "execution_count": 18,
   "metadata": {},
   "outputs": [
    {
     "data": {
      "text/plain": [
       "(135799, 82)"
      ]
     },
     "execution_count": 18,
     "metadata": {},
     "output_type": "execute_result"
    }
   ],
   "source": [
    "scaled_vals2 = scaler_fitted.transform(imputed_df2.values)\n",
    "scaled_vals2.shape"
   ]
  },
  {
   "cell_type": "markdown",
   "metadata": {},
   "source": [
    "PCA"
   ]
  },
  {
   "cell_type": "code",
   "execution_count": 23,
   "metadata": {},
   "outputs": [
    {
     "data": {
      "text/plain": [
       "(771701, 15)"
      ]
     },
     "execution_count": 23,
     "metadata": {},
     "output_type": "execute_result"
    }
   ],
   "source": [
    "from sklearn.decomposition import PCA\n",
    "n_components = 15 \n",
    "pca_final = PCA(n_components)\n",
    "fitted_pca = pca_final.fit(scaled_vals)\n",
    "pca_15 = fitted_pca.transform(scaled_vals)\n",
    "pca_15.shape"
   ]
  },
  {
   "cell_type": "code",
   "execution_count": 24,
   "metadata": {},
   "outputs": [
    {
     "data": {
      "text/plain": [
       "(135799, 15)"
      ]
     },
     "execution_count": 24,
     "metadata": {},
     "output_type": "execute_result"
    }
   ],
   "source": [
    "from sklearn.decomposition import PCA\n",
    "pca_15_2 = fitted_pca.transform(scaled_vals2)\n",
    "pca_15_2.shape"
   ]
  },
  {
   "cell_type": "markdown",
   "metadata": {},
   "source": [
    "CLUSTERING"
   ]
  },
  {
   "cell_type": "code",
   "execution_count": 25,
   "metadata": {},
   "outputs": [
    {
     "data": {
      "text/plain": [
       "(10, 15)"
      ]
     },
     "execution_count": 25,
     "metadata": {},
     "output_type": "execute_result"
    }
   ],
   "source": [
    "from sklearn.cluster import KMeans\n",
    "k=10\n",
    "kmeans = KMeans(n_clusters=k, random_state=1).fit(pca_15)\n",
    "kmeans.cluster_centers_.shape"
   ]
  },
  {
   "cell_type": "markdown",
   "metadata": {},
   "source": [
    "CLUSTER PREDICT"
   ]
  },
  {
   "cell_type": "code",
   "execution_count": 26,
   "metadata": {},
   "outputs": [
    {
     "data": {
      "text/plain": [
       "((771701,), (135799,))"
      ]
     },
     "execution_count": 26,
     "metadata": {},
     "output_type": "execute_result"
    }
   ],
   "source": [
    "#Here we predicted each of the points and put them in a cluster\n",
    "company_results = kmeans.predict(pca_15)\n",
    "customer_results = kmeans.predict(pca_15_2)\n",
    "company_results.shape, customer_results.shape"
   ]
  },
  {
   "cell_type": "code",
   "execution_count": null,
   "metadata": {},
   "outputs": [],
   "source": []
  }
 ],
 "metadata": {
  "kernelspec": {
   "display_name": "Python 3",
   "language": "python",
   "name": "python3"
  },
  "language_info": {
   "codemirror_mode": {
    "name": "ipython",
    "version": 3
   },
   "file_extension": ".py",
   "mimetype": "text/x-python",
   "name": "python",
   "nbconvert_exporter": "python",
   "pygments_lexer": "ipython3",
   "version": "3.8.5"
  }
 },
 "nbformat": 4,
 "nbformat_minor": 4
}
